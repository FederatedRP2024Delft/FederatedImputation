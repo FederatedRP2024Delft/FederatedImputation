{
 "cells": [
  {
   "cell_type": "code",
   "id": "initial_id",
   "metadata": {
    "collapsed": true,
    "ExecuteTime": {
     "end_time": "2024-05-03T15:09:32.483104Z",
     "start_time": "2024-05-03T15:09:32.468060Z"
    }
   },
   "source": [
    "import torchvision\n",
    "from torch import Tensor\n",
    "from src.plots import plot_vae_classifier_training_result, plot_image_label\n",
    "\n",
    "from src.vae.mnist_vae import VaeAutoencoderClassifier\n",
    "from src.image_classifier.image_classifier import MNISTClassifier\n",
    "from src.utils import frechet_inception_distance"
   ],
   "execution_count": 12,
   "outputs": []
  },
  {
   "metadata": {
    "ExecuteTime": {
     "end_time": "2024-05-03T15:09:34.521014Z",
     "start_time": "2024-05-03T15:09:34.340563Z"
    }
   },
   "cell_type": "code",
   "source": [
    "training_data = torchvision.datasets.FashionMNIST(root='../data/FMNIST_train', train=True, download=True, transform=torchvision.transforms.ToTensor())\n",
    "testing_data = torchvision.datasets.FashionMNIST(root='../data/FMNIST_test', train=False, download=True, transform=torchvision.transforms.ToTensor())\n",
    "\n",
    "print(training_data)\n",
    "print(testing_data)\n",
    "\n",
    "input = training_data.data[:60000] / 255.0    # normalizing necessary to make pixels in [0, 1] range for FID\n",
    "labels = training_data.targets[:60000]"
   ],
   "id": "16ee1ea9b79842dc",
   "execution_count": 13,
   "outputs": []
  },
  {
   "metadata": {
    "ExecuteTime": {
     "end_time": "2024-05-03T15:09:40.847893Z",
     "start_time": "2024-05-03T15:09:36.248599Z"
    }
   },
   "cell_type": "code",
   "source": [
    "# Train VAE\n",
    "vae = VaeAutoencoderClassifier(dim_encoding=3)\n",
    "\n",
    "# works best for around alpha of 10000 and 20 epochs\n",
    "vae_classifier_model, total_losses, classifier_accuracy_li, classifier_loss_li, vae_loss_li, kl_loss_li = vae.train_model(\n",
    "    training_data=training_data,\n",
    "    batch_size=100,\n",
    "    alpha=1,\n",
    "    beta=1,\n",
    "    epochs=20\n",
    ")"
   ],
   "id": "415ddc3205ecd96b",
   "execution_count": 14,
   "outputs": []
  },
  {
   "metadata": {
    "ExecuteTime": {
     "end_time": "2024-05-03T15:01:08.203628Z",
     "start_time": "2024-05-03T15:01:07.946179Z"
    }
   },
   "cell_type": "code",
   "source": [
    "# plot generated data\n",
    "image_tensor, label_tensor = vae.generate_data(n_samples=5)\n",
    "plot_image_label(image_tensor.cpu().detach().numpy(), label_tensor.cpu().detach().numpy())"
   ],
   "id": "b8346adb2f156a85",
   "execution_count": 4,
   "outputs": []
  },
  {
   "metadata": {
    "ExecuteTime": {
     "end_time": "2024-05-03T15:01:09.998731Z",
     "start_time": "2024-05-03T15:01:09.986080Z"
    }
   },
   "cell_type": "code",
   "source": [
    "# move tensors to cpu before converting to np array\n",
    "np_classifier_accuracy_li = []\n",
    "np_classifier_loss_li = []\n",
    "np_vae_loss_li = []\n",
    "np_kl_loss_li = []\n",
    "\n",
    "for output in classifier_accuracy_li:\n",
    "    if isinstance(output, Tensor):\n",
    "        np_classifier_accuracy_li.append(output.cpu().detach().numpy())\n",
    "\n",
    "for output in classifier_loss_li:\n",
    "    if isinstance(output, Tensor):\n",
    "        np_classifier_loss_li.append(output.cpu().detach().numpy())\n",
    "        \n",
    "for output in vae_loss_li:\n",
    "    if isinstance(output, Tensor):\n",
    "        np_vae_loss_li.append(output.cpu().detach().numpy())\n",
    "\n",
    "for output in kl_loss_li:\n",
    "    if isinstance(output, Tensor):\n",
    "        np_kl_loss_li.append(output.cpu().detach().numpy())\n"
   ],
   "id": "ae8696b75203674b",
   "execution_count": 5,
   "outputs": []
  },
  {
   "metadata": {
    "ExecuteTime": {
     "end_time": "2024-05-03T15:01:14.357691Z",
     "start_time": "2024-05-03T15:01:11.502260Z"
    }
   },
   "cell_type": "code",
   "source": [
    "# plot results\n",
    "plot_vae_classifier_training_result(\n",
    "    input=input,\n",
    "    labels=labels,\n",
    "    vae_model_classifier=vae_classifier_model,\n",
    "    vae_loss_li=np_vae_loss_li,\n",
    "    total_losses=total_losses, \n",
    "    classifier_accuracy_li=np_classifier_accuracy_li, \n",
    "    classifier_loss_li=np_classifier_loss_li,\n",
    "    kl_loss_li=np_kl_loss_li\n",
    ")"
   ],
   "id": "9ce187083360ae0e",
   "execution_count": 6,
   "outputs": []
  },
  {
   "metadata": {
    "ExecuteTime": {
     "end_time": "2024-05-03T15:01:43.155375Z",
     "start_time": "2024-05-03T15:01:25.172462Z"
    }
   },
   "cell_type": "code",
   "source": [
    "# train classifier for performance evaluation\n",
    "\n",
    "classifier = MNISTClassifier(input_size=784, num_classes=10)\n",
    "classifier.train_model(training_data, batch_size=100, epochs=5)\n",
    "accuracy = classifier.test_model(testing_data)\n",
    "print(\"Test accuracy: \", accuracy)"
   ],
   "id": "1c22d0587d317480",
   "execution_count": 7,
   "outputs": []
  },
  {
   "metadata": {
    "ExecuteTime": {
     "end_time": "2024-05-03T15:02:06.270939Z",
     "start_time": "2024-05-03T15:02:03.358778Z"
    }
   },
   "cell_type": "code",
   "source": [
    "# test quality of images\n",
    "x, y = vae.generate_data(n_samples=10000)\n",
    "\n",
    "assert x.shape[0] == y.shape[0]\n",
    "print(\"Number of images: \", x.shape[0])\n",
    "\n",
    "accuracy = classifier.test_model_syn_img_label(x, y)\n",
    "print(\"Accuracy: \", accuracy)"
   ],
   "id": "1296469b8fed46fe",
   "execution_count": 11,
   "outputs": []
  },
  {
   "metadata": {
    "ExecuteTime": {
     "end_time": "2024-05-03T15:01:49.366327Z",
     "start_time": "2024-05-03T15:01:44.443381Z"
    }
   },
   "cell_type": "code",
   "source": [
    "# # Determine FID\n",
    "# # generate 500 images\n",
    "# syn_input, _ = vae.generate_data(n_samples=500)\n",
    "# input = input[:500]\n",
    "# \n",
    "# input_rgb = input.view(-1, 1, 28, 28).repeat(1, 3, 1, 1)\n",
    "# syn_input_rgb = syn_input.view(-1, 1, 28, 28).repeat(1, 3, 1, 1)\n",
    "# \n",
    "# # compute FID score\n",
    "# fid_score = frechet_inception_distance(input_rgb, syn_input_rgb)\n",
    "# print(\"Frechet Inception Distance: \", fid_score)"
   ],
   "id": "8facfceca09d32d",
   "execution_count": 10,
   "outputs": []
  },
  {
   "metadata": {},
   "cell_type": "code",
   "source": [],
   "id": "e096decd0448907b",
   "execution_count": null,
   "outputs": []
  }
 ],
 "metadata": {
  "kernelspec": {
   "display_name": "Python 3",
   "language": "python",
   "name": "python3"
  },
  "language_info": {
   "codemirror_mode": {
    "name": "ipython",
    "version": 2
   },
   "file_extension": ".py",
   "mimetype": "text/x-python",
   "name": "python",
   "nbconvert_exporter": "python",
   "pygments_lexer": "ipython2",
   "version": "2.7.6"
  }
 },
 "nbformat": 4,
 "nbformat_minor": 5
}
