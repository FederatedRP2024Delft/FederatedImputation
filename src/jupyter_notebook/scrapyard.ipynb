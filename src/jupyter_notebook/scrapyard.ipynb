{
 "cells": [
  {
   "cell_type": "code",
   "id": "initial_id",
   "metadata": {
    "collapsed": true,
    "ExecuteTime": {
     "end_time": "2024-05-08T14:41:42.802353Z",
     "start_time": "2024-05-08T14:41:39.168249800Z"
    }
   },
   "source": [
    "import numpy as np\n",
    "from src import sampling"
   ],
   "outputs": [],
   "execution_count": 1
  },
  {
   "metadata": {
    "ExecuteTime": {
     "end_time": "2024-05-08T14:41:42.983353800Z",
     "start_time": "2024-05-08T14:41:42.806353200Z"
    }
   },
   "cell_type": "code",
   "source": [
    "np.random.dirichlet([5,0.4,0.4])"
   ],
   "id": "ec67a6ae264bf999",
   "outputs": [
    {
     "data": {
      "text/plain": "array([9.74211792e-01, 4.61761079e-06, 2.57835907e-02])"
     },
     "execution_count": 2,
     "metadata": {},
     "output_type": "execute_result"
    }
   ],
   "execution_count": 2
  },
  {
   "metadata": {
    "ExecuteTime": {
     "end_time": "2024-05-05T14:19:08.151317100Z",
     "start_time": "2024-05-05T14:19:08.127265800Z"
    }
   },
   "cell_type": "code",
   "outputs": [
    {
     "data": {
      "text/plain": "{'a': tensor([1.0000, 2.0000, 3.0000]), 'b': tensor([4.0000, 5.0000, 6.0000])}"
     },
     "execution_count": 4,
     "metadata": {},
     "output_type": "execute_result"
    }
   ],
   "execution_count": 4,
   "source": [
    "from src.utils import fed_avg\n",
    "import torch\n",
    "local_weights = [{\"a\":torch.tensor([1,2,3]), \"b\":torch.tensor([4,5,6])}, {\"a\":torch.tensor([5,4,3]), \"b\":torch.tensor([2,1,0])}]\n",
    "#expected avg should be 3\n",
    "dataset_size_per_client = [10000000, 10]\n",
    "global_weights = fed_avg(local_weights, dataset_size_per_client)\n",
    "global_weights"
   ],
   "id": "3ccb50801ff4b596"
  },
  {
   "cell_type": "code",
   "execution_count": 1,
   "outputs": [
    {
     "name": "stdout",
     "output_type": "stream",
     "text": [
      "3\n",
      "2\n",
      "[[17118.47621809 16061.88037327 15880.72466823]\n",
      " [17893.12191772 17019.89429188 16790.32983398]]\n",
      "[[1208575.25  1133073.625 1127436.625]\n",
      " [2619418.    2324321.75  2299255.   ]]\n",
      "[[0.02308105 0.02952228 0.03864734]\n",
      " [0.32052212 0.50157119 0.52139231]]\n"
     ]
    }
   ],
   "source": [
    "import os\n",
    "\n",
    "path = \"C:\\\\Users\\\\lyada\\\\Desktop\\\\Federated-Learning-PyTorch\\\\save\\\\objects\\\\0.2_mnist_vae_3_C[1.0]_iid[2]_E[1]_B[10].pkl\"\n",
    "import pickle\n",
    "\n",
    "with open(path, 'rb') as f:\n",
    "    data = pickle.load(f)\n",
    "print(len(data))\n",
    "print(len(data[0]))\n",
    "print(data[0])\n",
    "print(data[1])\n",
    "print(data[2])"
   ],
   "metadata": {
    "collapsed": false,
    "ExecuteTime": {
     "end_time": "2024-05-08T20:07:02.225931700Z",
     "start_time": "2024-05-08T20:07:02.068935300Z"
    }
   }
  },
  {
   "cell_type": "code",
   "execution_count": 1,
   "outputs": [
    {
     "name": "stdout",
     "output_type": "stream",
     "text": [
      "mnist\n"
     ]
    }
   ],
   "source": [
    "from src.utils import get_dataset\n",
    "class args:\n",
    "    def __init__(self):\n",
    "        self.dataset = \"mnist\"\n",
    "        self.iid = 1\n",
    "        self.num_users = 3\n",
    "\n",
    "a = args()\n",
    "print(a.dataset)\n",
    "\n",
    "train_dataset, test_dataset, user_groups = get_dataset(a)"
   ],
   "metadata": {
    "collapsed": false,
    "ExecuteTime": {
     "end_time": "2024-05-08T15:16:06.135927500Z",
     "start_time": "2024-05-08T15:16:01.449766800Z"
    }
   }
  },
  {
   "cell_type": "code",
   "execution_count": 2,
   "outputs": [
    {
     "data": {
      "text/plain": "60000"
     },
     "execution_count": 2,
     "metadata": {},
     "output_type": "execute_result"
    }
   ],
   "source": [
    "len(train_dataset)\n"
   ],
   "metadata": {
    "collapsed": false,
    "ExecuteTime": {
     "end_time": "2024-05-08T15:16:06.648928300Z",
     "start_time": "2024-05-08T15:16:06.617928400Z"
    }
   }
  },
  {
   "cell_type": "code",
   "execution_count": 3,
   "outputs": [
    {
     "name": "stdout",
     "output_type": "stream",
     "text": [
      "torch.Size([1, 28, 28]) 5\n"
     ]
    }
   ],
   "source": [
    "print(train_dataset[0][0].shape, train_dataset[0][1])"
   ],
   "metadata": {
    "collapsed": false,
    "ExecuteTime": {
     "end_time": "2024-05-08T15:16:06.822926700Z",
     "start_time": "2024-05-08T15:16:06.813927300Z"
    }
   }
  },
  {
   "cell_type": "code",
   "execution_count": 4,
   "outputs": [],
   "source": [
    "from src.vae.mnist_vae import VaeAutoencoderClassifier\n",
    "from src.impute import impute_naive\n",
    "import torch\n",
    "trained_vae = VaeAutoencoderClassifier(dim_encoding=2)\n",
    "trained_vae.load_state_dict(torch.load(\"C:\\\\Users\\\\lyada\\\\Desktop\\\\Federated-Learning-PyTorch\\\\vae_data\\\\models\\\\global.pth\"))\n",
    "generated_dataset = impute_naive(k=30, trained_vae=trained_vae, initial_dataset=train_dataset)"
   ],
   "metadata": {
    "collapsed": false,
    "ExecuteTime": {
     "end_time": "2024-05-08T15:16:07.413926700Z",
     "start_time": "2024-05-08T15:16:07.344929100Z"
    }
   }
  },
  {
   "cell_type": "code",
   "execution_count": 5,
   "outputs": [
    {
     "data": {
      "text/plain": "60030"
     },
     "execution_count": 5,
     "metadata": {},
     "output_type": "execute_result"
    }
   ],
   "source": [
    "len(generated_dataset)"
   ],
   "metadata": {
    "collapsed": false,
    "ExecuteTime": {
     "end_time": "2024-05-08T15:16:08.314927800Z",
     "start_time": "2024-05-08T15:16:08.304928400Z"
    }
   }
  },
  {
   "cell_type": "code",
   "execution_count": 34,
   "outputs": [],
   "source": [
    "import numpy as np\n",
    "np.argmax(generated_dataset[1][2].detach().numpy())\n",
    "to_be_zipped = []\n",
    "for image_ind in range(3):\n",
    "    to_be_zipped.append((generated_dataset[0][image_ind], np.argmax(generated_dataset[1][image_ind].detach().numpy())))\n"
   ],
   "metadata": {
    "collapsed": false,
    "ExecuteTime": {
     "end_time": "2024-05-08T15:14:38.193981100Z",
     "start_time": "2024-05-08T15:14:38.176981800Z"
    }
   }
  },
  {
   "cell_type": "code",
   "execution_count": 35,
   "outputs": [
    {
     "name": "stdout",
     "output_type": "stream",
     "text": [
      "torch.Size([1, 28, 28]) 3\n"
     ]
    }
   ],
   "source": [
    "print(to_be_zipped[0][0].shape, to_be_zipped[0][1])\n",
    "# to_be_zipped"
   ],
   "metadata": {
    "collapsed": false,
    "ExecuteTime": {
     "end_time": "2024-05-08T15:14:41.785116300Z",
     "start_time": "2024-05-08T15:14:41.773117400Z"
    }
   }
  },
  {
   "cell_type": "code",
   "execution_count": null,
   "outputs": [],
   "source": [],
   "metadata": {
    "collapsed": false
   }
  }
 ],
 "metadata": {
  "kernelspec": {
   "display_name": "Python 3",
   "language": "python",
   "name": "python3"
  },
  "language_info": {
   "codemirror_mode": {
    "name": "ipython",
    "version": 2
   },
   "file_extension": ".py",
   "mimetype": "text/x-python",
   "name": "python",
   "nbconvert_exporter": "python",
   "pygments_lexer": "ipython2",
   "version": "2.7.6"
  }
 },
 "nbformat": 4,
 "nbformat_minor": 5
}
