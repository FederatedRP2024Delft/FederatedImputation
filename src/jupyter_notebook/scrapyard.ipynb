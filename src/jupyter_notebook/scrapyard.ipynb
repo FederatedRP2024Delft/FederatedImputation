{
 "cells": [
  {
   "cell_type": "code",
   "id": "initial_id",
   "metadata": {
    "collapsed": true,
    "ExecuteTime": {
     "end_time": "2024-05-08T14:41:42.802353Z",
     "start_time": "2024-05-08T14:41:39.168249800Z"
    }
   },
   "source": [
    "import numpy as np\n",
    "from src import sampling"
   ],
   "execution_count": 1,
   "outputs": []
  },
  {
   "metadata": {
    "ExecuteTime": {
     "end_time": "2024-05-08T14:41:42.983353800Z",
     "start_time": "2024-05-08T14:41:42.806353200Z"
    }
   },
   "cell_type": "code",
   "source": [
    "np.random.dirichlet([5,0.4,0.4])"
   ],
   "id": "ec67a6ae264bf999",
   "execution_count": 2,
   "outputs": []
  },
  {
   "metadata": {
    "ExecuteTime": {
     "end_time": "2024-05-05T14:19:08.151317100Z",
     "start_time": "2024-05-05T14:19:08.127265800Z"
    }
   },
   "cell_type": "code",
   "execution_count": 4,
   "source": [
    "from src.utils import fed_avg\n",
    "import torch\n",
    "local_weights = [{\"a\":torch.tensor([1,2,3]), \"b\":torch.tensor([4,5,6])}, {\"a\":torch.tensor([5,4,3]), \"b\":torch.tensor([2,1,0])}]\n",
    "#expected avg should be 3\n",
    "dataset_size_per_client = [10000000, 10]\n",
    "global_weights = fed_avg(local_weights, dataset_size_per_client)\n",
    "global_weights"
   ],
   "id": "3ccb50801ff4b596",
   "outputs": []
  },
  {
   "cell_type": "code",
   "execution_count": 1,
   "source": [
    "import os\n",
    "# C:\\Users\\lyada\\Desktop\\Federated-Learning-PyTorch\\save\\objects\\fedimputed_0.1_mnist_exq_10_C[1.0]_iid[2]_E[1]_B[10].pkl\n",
    "# path = \"C:\\\\Users\\\\lyada\\\\Desktop\\\\Federated-Learning-PyTorch\\\\save\\\\objects\\\\fedimputed_0.1_mnist_exq_10_C[1.0]_iid[2]_E[1]_B[10].pkl\"\n",
    "path = \"C:\\\\Users\\\\lyada\\\\Desktop\\\\Federated-Learning-PyTorch\\\\save\\\\objects\\\\0.1_mnist_cnn_30_C[1.0]_iid[2]_E[10]_B[10].pkl\"\n",
    "# path = \"C:\\\\Users\\\\lyada\\\\Desktop\\\\Federated-Learning-PyTorch\\\\save\\\\objects\\\\fedimputed_0.1_mnist_exq_1_C[1.0]_iid[2]_E[10]_B[10].pkl\"\n",
    "import pickle\n",
    "\n",
    "with open(path, 'rb') as f:\n",
    "    data = pickle.load(f)\n",
    "\n",
    "#[type_metric, user, global round]\n",
    "print(len(data))\n",
    "print(len(data[0][0]))\n"
   ],
   "metadata": {
    "collapsed": false,
    "ExecuteTime": {
     "end_time": "2024-05-11T08:46:51.091475500Z",
     "start_time": "2024-05-11T08:46:51.013473600Z"
    }
   },
   "id": "a5d0b135a414e711",
   "outputs": []
  },
  {
   "cell_type": "code",
   "execution_count": 5,
   "source": [
    "import matplotlib.pyplot as plt\n",
    "import numpy as np\n",
    "# fig, ax = plt.subplots()\n",
    "xs = np.arange(15)\n",
    "# for i in range(len(data[0])):\n",
    "plt.plot(xs, data[1][0], label = \"test\")\n",
    "plt.plot(xs, data[0][0], label = \"train\")\n",
    "# plt.plot(xs, np.mean(data[0], axis=0), label = \"global\")\n",
    "plt.legend()\n",
    "plt.show()\n",
    "# print(data[0][0])\n",
    "# np.mean(data[0], axis=0)"
   ],
   "metadata": {
    "collapsed": false,
    "ExecuteTime": {
     "end_time": "2024-05-11T08:48:07.466548Z",
     "start_time": "2024-05-11T08:48:07.321552200Z"
    }
   },
   "id": "88652f1c553a4014",
   "outputs": []
  },
  {
   "cell_type": "code",
   "execution_count": 11,
   "source": [
    " plt.plot([data[0][0], data[1][0], data[2][0]])"
   ],
   "metadata": {
    "collapsed": false,
    "ExecuteTime": {
     "end_time": "2024-05-10T18:14:40.567947500Z",
     "start_time": "2024-05-10T18:14:40.216593900Z"
    }
   },
   "id": "af579a958a2ed547",
   "outputs": []
  },
  {
   "cell_type": "code",
   "execution_count": 42,
   "source": [
    "clients_data = []\n",
    "for x in range(1, 11):\n",
    "    print(x/10)\n",
    "    path = f\"C:\\\\Users\\\\lyada\\\\Desktop\\\\Federated-Learning-PyTorch\\\\save\\\\objects\\\\{x/10}_mnist_cnn_30_C[1.0]_iid[2]_E[10]_B[10].pkl\"\n",
    "    with open(path, 'rb') as f:\n",
    "        clients_data.append(pickle.load(f))\n",
    "for a in range(10):\n",
    "    plt.plot(xs, np.mean(clients_data[a][1], axis=0), label = f\"global_{0.1*(a+1)}\")\n",
    "plt.legend()\n",
    "plt.show()"
   ],
   "metadata": {
    "collapsed": false,
    "ExecuteTime": {
     "end_time": "2024-05-10T17:37:06.904078500Z",
     "start_time": "2024-05-10T17:37:06.089949800Z"
    }
   },
   "id": "d2c9bb81ded093a4",
   "outputs": []
  },
  {
   "cell_type": "code",
   "execution_count": 46,
   "source": [
    "import pickle\n",
    "path = f\"C:\\\\Users\\\\lyada\\\\Desktop\\\\Federated-Learning-PyTorch\\\\save\\\\objects\\\\fedimputed_0.1_mnist_cnn_30_C[1.0]_iid[2]_E[10]_B[10].pkl\"\n",
    "path_1 = f\"C:\\\\Users\\\\lyada\\\\Desktop\\\\Federated-Learning-PyTorch\\\\save\\\\objects\\\\0.1_mnist_cnn_30_C[1.0]_iid[2]_E[10]_B[10].pkl\"\n",
    "with open(path, 'rb') as f:\n",
    "    a = pickle.load(f)\n",
    "with open(path_1, 'rb') as f:\n",
    "    b = pickle.load(f)\n",
    "# print(len(a[0]))\n",
    "plt.plot(xs, np.mean(a[1], axis=0), label = f\"imputed\")\n",
    "plt.plot(xs, np.mean(b[1], axis=0), label = f\"naive\")\n",
    "plt.legend()\n",
    "plt.show()"
   ],
   "metadata": {
    "collapsed": false,
    "ExecuteTime": {
     "end_time": "2024-05-10T17:38:11.364887700Z",
     "start_time": "2024-05-10T17:38:10.723066300Z"
    }
   },
   "id": "4385a3bcfb314954",
   "outputs": []
  },
  {
   "cell_type": "code",
   "execution_count": 10,
   "source": [
    "clients_data = []\n",
    "for x in range(2, 12):\n",
    "    print(x/10)\n",
    "    path = f\"C:\\\\Users\\\\lyada\\\\Desktop\\\\Federated-Learning-PyTorch\\\\save\\\\objects\\\\{x/10}_mnist_cnn_30_C[1.0]_iid[2]_E[10]_B[10].pkl\"\n",
    "    with open(path, 'rb') as f:\n",
    "        clients_data.append(pickle.load(f))\n",
    "for a in range(5):\n",
    "    plt.plot(xs, np.mean(clients_data[a][2], axis=0), label = f\"global_{0.2*(a+1)}\")\n",
    "plt.legend()\n",
    "plt.show()"
   ],
   "metadata": {
    "collapsed": false,
    "ExecuteTime": {
     "end_time": "2024-05-10T08:41:16.689956500Z",
     "start_time": "2024-05-10T08:41:16.209853400Z"
    }
   },
   "id": "c51268fb22e98db6",
   "outputs": []
  },
  {
   "cell_type": "code",
   "execution_count": 2,
   "source": [
    "from src.models import ExquisiteNetV2, ResNet, Bottleneck\n",
    "from src.vae.mnist_vae import VaeAutoencoderClassifier\n",
    "\n",
    "# model = ExquisiteNetV2(10, 1)\n",
    "# model = VaeAutoencoderClassifier(dim_encoding=2)\n",
    "model = ResNet(block=Bottleneck,\n",
    "               layers=[2,2,2,2],\n",
    "               num_classes=10,\n",
    "               grayscale=True)\n",
    "total_params = sum(p.numel() for p in model.parameters())\n",
    "print(f\"Number of parameters: {total_params}\")"
   ],
   "metadata": {
    "collapsed": false,
    "ExecuteTime": {
     "end_time": "2024-05-14T14:46:26.081068700Z",
     "start_time": "2024-05-14T14:46:22.117289500Z"
    }
   },
   "id": "6b8670348582c51d",
   "outputs": []
  },
  {
   "cell_type": "code",
   "execution_count": 6,
   "source": [
    "class args:\n",
    "    def __init__(self):\n",
    "        self.num_channels = 1\n",
    "        self.iid = 1\n",
    "        self.num_classes = 10"
   ],
   "metadata": {
    "collapsed": false,
    "ExecuteTime": {
     "end_time": "2024-05-10T17:44:00.355946Z",
     "start_time": "2024-05-10T17:44:00.331938Z"
    }
   },
   "id": "5551457f7a102c08",
   "outputs": []
  },
  {
   "cell_type": "code",
   "execution_count": 7,
   "source": [
    "from src.models import CNNMnist, CNNCifar, CNNFashion_Mnist\n",
    "from src.models import CNNMnist\n",
    "args = args()\n",
    "model = CNNMnist(args=args)\n",
    "# model = VaeAutoencoderClassifier(dim_encoding=2)\n",
    "total_params = sum(p.numel() for p in model.parameters())\n",
    "print(f\"Number of parameters: {total_params}\")"
   ],
   "metadata": {
    "collapsed": false,
    "ExecuteTime": {
     "end_time": "2024-05-10T17:44:02.006732700Z",
     "start_time": "2024-05-10T17:44:01.918680200Z"
    }
   },
   "id": "a8f1cb9166ad1ef6",
   "outputs": []
  },
  {
   "cell_type": "code",
   "execution_count": 1,
   "source": [
    "from src.utils import get_dataset\n",
    "class args:\n",
    "    def __init__(self):\n",
    "        self.dataset = \"mnist\"\n",
    "        self.iid = 1\n",
    "        self.num_users = 3\n",
    "\n",
    "a = args()\n",
    "print(a.dataset)\n",
    "\n",
    "train_dataset, test_dataset, user_groups = get_dataset(a)"
   ],
   "metadata": {
    "collapsed": false,
    "ExecuteTime": {
     "end_time": "2024-05-10T08:38:54.601913800Z",
     "start_time": "2024-05-10T08:38:47.550577100Z"
    }
   },
   "id": "42cf18eb5cf8e02b",
   "outputs": []
  },
  {
   "cell_type": "code",
   "execution_count": 2,
   "source": [
    "len(train_dataset)\n"
   ],
   "metadata": {
    "collapsed": false,
    "ExecuteTime": {
     "end_time": "2024-05-10T08:38:54.681939300Z",
     "start_time": "2024-05-10T08:38:54.601913800Z"
    }
   },
   "id": "31bf0dea232fad9e",
   "outputs": []
  },
  {
   "cell_type": "code",
   "execution_count": 3,
   "source": [
    "print(train_dataset[0][0].shape, train_dataset[0][1])"
   ],
   "metadata": {
    "collapsed": false,
    "ExecuteTime": {
     "end_time": "2024-05-10T08:38:54.793922300Z",
     "start_time": "2024-05-10T08:38:54.697924900Z"
    }
   },
   "id": "c9cac6ac2714e55a",
   "outputs": []
  },
  {
   "cell_type": "code",
   "execution_count": 7,
   "source": [
    "from src.vae.mnist_vae import VaeAutoencoderClassifier\n",
    "from src.impute import impute_naive\n",
    "import torch\n",
    "trained_vae = VaeAutoencoderClassifier(dim_encoding=2)\n",
    "trained_vae.load_state_dict(torch.load(\"C:\\\\Users\\\\lyada\\\\Desktop\\\\Federated-Learning-PyTorch\\\\vae_data\\\\models\\\\vae_0.1.pth\"))\n",
    "generated_dataset = impute_naive(k=30, trained_vae=trained_vae, initial_dataset=train_dataset)"
   ],
   "metadata": {
    "collapsed": false,
    "ExecuteTime": {
     "end_time": "2024-05-10T08:39:58.899839700Z",
     "start_time": "2024-05-10T08:39:58.799922100Z"
    }
   },
   "id": "37037479d654deaa",
   "outputs": []
  },
  {
   "cell_type": "code",
   "execution_count": 8,
   "source": [
    "len(generated_dataset)"
   ],
   "metadata": {
    "collapsed": false,
    "ExecuteTime": {
     "end_time": "2024-05-10T08:39:59.519013600Z",
     "start_time": "2024-05-10T08:39:59.467134Z"
    }
   },
   "id": "4bf8edbed325fcc8",
   "outputs": []
  },
  {
   "cell_type": "code",
   "execution_count": 9,
   "source": [
    "from src.plots import plot_image_label\n",
    "# r = 60026\n",
    "for r in range(60000, len(generated_dataset)):\n",
    "    print(generated_dataset[r][1])\n",
    "    plot_image_label(generated_dataset[r][0].cpu().detach().numpy(), generated_dataset[0][1])"
   ],
   "metadata": {
    "collapsed": false,
    "ExecuteTime": {
     "end_time": "2024-05-10T08:40:03.097009400Z",
     "start_time": "2024-05-10T08:40:00.129897800Z"
    }
   },
   "id": "ac9b55fd2ba1fe7d",
   "outputs": []
  },
  {
   "cell_type": "code",
   "execution_count": 34,
   "source": [
    "import numpy as np\n",
    "np.argmax(generated_dataset[1][2].detach().numpy())\n",
    "to_be_zipped = []\n",
    "for image_ind in range(3):\n",
    "    to_be_zipped.append((generated_dataset[0][image_ind], np.argmax(generated_dataset[1][image_ind].detach().numpy())))\n"
   ],
   "metadata": {
    "collapsed": false,
    "ExecuteTime": {
     "end_time": "2024-05-08T15:14:38.193981100Z",
     "start_time": "2024-05-08T15:14:38.176981800Z"
    }
   },
   "id": "be83a7c57afc7195",
   "outputs": []
  },
  {
   "cell_type": "code",
   "execution_count": 3,
   "source": [
    "import torch\n",
    "torch.cuda.is_available()"
   ],
   "metadata": {
    "collapsed": false,
    "ExecuteTime": {
     "end_time": "2024-05-08T15:14:41.785116300Z",
     "start_time": "2024-05-08T15:14:41.773117400Z"
    }
   },
   "id": "aa614f4d70f165f6",
   "outputs": []
  },
  {
   "cell_type": "code",
   "execution_count": null,
   "source": [],
   "metadata": {
    "collapsed": false
   },
   "id": "eb0a675ea4e4f924",
   "outputs": []
  }
 ],
 "metadata": {
  "kernelspec": {
   "display_name": "Python 3",
   "language": "python",
   "name": "python3"
  },
  "language_info": {
   "codemirror_mode": {
    "name": "ipython",
    "version": 2
   },
   "file_extension": ".py",
   "mimetype": "text/x-python",
   "name": "python",
   "nbconvert_exporter": "python",
   "pygments_lexer": "ipython2",
   "version": "2.7.6"
  }
 },
 "nbformat": 4,
 "nbformat_minor": 5
}
