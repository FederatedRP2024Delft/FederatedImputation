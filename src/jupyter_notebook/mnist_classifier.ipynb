{
 "cells": [
  {
   "metadata": {
    "ExecuteTime": {
     "end_time": "2024-05-08T14:47:41.209820200Z",
     "start_time": "2024-05-08T14:47:39.761193400Z"
    }
   },
   "cell_type": "code",
   "source": [
    "import torchvision\n",
    "import torch\n",
    "from torch import Tensor\n",
    "\n",
    "from src.plots import plot_vae_classifier_training_result, plot_image_label, plot_image_label_two\n",
    "from src.vae.mnist_vae import VaeAutoencoderClassifier\n",
    "from src.image_classifier.image_classifier import MNISTClassifier\n",
    "from src.utils import frechet_inception_distance\n",
    "from src.sampling import split_dirichlet"
   ],
   "id": "2487a85fbbe2c48b",
   "execution_count": 4,
   "outputs": []
  },
  {
   "metadata": {
    "ExecuteTime": {
     "end_time": "2024-05-08T14:47:55.292406600Z",
     "start_time": "2024-05-08T14:47:42.010820900Z"
    }
   },
   "cell_type": "code",
   "source": [
    "training_data = torchvision.datasets.MNIST(root='../data/MNIST_train', train=True, download=True, transform=torchvision.transforms.ToTensor())\n",
    "testing_data = torchvision.datasets.MNIST(root='../data/MNIST_test', train=False, download=True, transform=torchvision.transforms.ToTensor())\n",
    "print(training_data)\n",
    "print(testing_data)\n",
    "\n",
    "input = training_data.data[:60000] / 255.0   # normalizing necessary to make pixels in [0, 1] range for FID\n",
    "labels = training_data.targets[:60000]"
   ],
   "id": "e88faf52309641be",
   "execution_count": 5,
   "outputs": []
  },
  {
   "metadata": {
    "ExecuteTime": {
     "end_time": "2024-05-08T14:52:25.672594900Z",
     "start_time": "2024-05-08T14:47:55.296406700Z"
    }
   },
   "cell_type": "code",
   "source": [
    "# Train VAE classifier\n",
    "vae_classifier = VaeAutoencoderClassifier(dim_encoding=2)\n",
    "\n",
    "# alpha value of 5000 and 20 epochs seems to be the best\n",
    "# increasing alpha will decrease KL divergence loss but worse generated data\n",
    "vae_classifier_model, total_losses, classifier_accuracy_li, classifier_loss_li, vae_loss_li, kl_loss_li = vae_classifier.train_model(\n",
    "    training_data,\n",
    "    batch_size=100,\n",
    "    alpha=5000,\n",
    "    beta=1.0,\n",
    "    epochs=20\n",
    ")\n",
    "\n",
    "# # example of how to later aggregate weights and bias\n",
    "# vae2 = VaeAutoencoderClassifier(dim_encoding=2)\n",
    "# avg_parameter = torch.nn.Parameter((vae.encoder.fc1.weight + vae2.encoder.fc1.weight) / 2)"
   ],
   "id": "59b1dbf294fdff69",
   "execution_count": 6,
   "outputs": []
  },
  {
   "metadata": {
    "ExecuteTime": {
     "end_time": "2024-05-08T14:52:26.079139100Z",
     "start_time": "2024-05-08T14:52:25.676595Z"
    }
   },
   "cell_type": "code",
   "source": [
    "# plot generated data\n",
    "image_tensor, label_tensor = vae_classifier.generate_data(n_samples=5)\n",
    "plot_image_label(image_tensor.cpu().detach().numpy(), label_tensor.cpu().detach().numpy())"
   ],
   "id": "92ec7ff435f4002",
   "execution_count": 7,
   "outputs": []
  },
  {
   "cell_type": "code",
   "execution_count": 9,
   "source": [
    "torch.save(vae_classifier.state_dict(), \"C:\\\\Users\\\\lyada\\\\Desktop\\\\Federated-Learning-PyTorch\\\\vae_data\\\\models\\\\global.pth\")"
   ],
   "metadata": {
    "collapsed": false,
    "ExecuteTime": {
     "end_time": "2024-05-08T14:53:57.373544900Z",
     "start_time": "2024-05-08T14:53:57.329546100Z"
    }
   },
   "id": "180085c4168c8a5f",
   "outputs": []
  },
  {
   "cell_type": "code",
   "execution_count": 12,
   "source": [
    "model_clas = VaeAutoencoderClassifier(dim_encoding=2)\n",
    "model_clas.load_state_dict(torch.load(\"C:\\\\Users\\\\lyada\\\\Desktop\\\\Federated-Learning-PyTorch\\\\vae_data\\\\models\\\\global.pth\"))\n",
    "image_tensor, label_tensor = model_clas.generate_data(n_samples=5)\n",
    "print(image_tensor.shape)\n",
    "plot_image_label(image_tensor.cpu().detach().numpy(), label_tensor.cpu().detach().numpy())"
   ],
   "metadata": {
    "collapsed": false,
    "ExecuteTime": {
     "end_time": "2024-05-08T15:02:46.956637900Z",
     "start_time": "2024-05-08T15:02:46.626639Z"
    }
   },
   "id": "8bcf0a9e35bf0c12",
   "outputs": []
  },
  {
   "metadata": {
    "ExecuteTime": {
     "end_time": "2024-05-03T15:03:55.083076Z",
     "start_time": "2024-05-03T15:03:55.007017Z"
    }
   },
   "cell_type": "code",
   "source": [
    "# move tensors to cpu before converting to np array\n",
    "np_classifier_accuracy_li = []\n",
    "np_classifier_loss_li = []\n",
    "np_vae_loss_li = []\n",
    "np_kl_loss_li = []\n",
    "\n",
    "for output in classifier_accuracy_li:\n",
    "    if isinstance(output, Tensor):\n",
    "        np_classifier_accuracy_li.append(output.cpu().detach().numpy())\n",
    "\n",
    "for output in classifier_loss_li:\n",
    "    if isinstance(output, Tensor):\n",
    "        np_classifier_loss_li.append(output.cpu().detach().numpy())\n",
    "        \n",
    "for output in vae_loss_li:\n",
    "    if isinstance(output, Tensor):\n",
    "        np_vae_loss_li.append(output.cpu().detach().numpy())\n",
    "\n",
    "for output in kl_loss_li:\n",
    "    if isinstance(output, Tensor):\n",
    "        np_kl_loss_li.append(output.cpu().detach().numpy())\n"
   ],
   "id": "d3a8b91faa6471c6",
   "execution_count": 7,
   "outputs": []
  },
  {
   "metadata": {
    "ExecuteTime": {
     "end_time": "2024-05-03T15:03:59.970122Z",
     "start_time": "2024-05-03T15:03:56.450672Z"
    }
   },
   "cell_type": "code",
   "source": [
    "# plot results\n",
    "plot_vae_classifier_training_result(\n",
    "    input=input,\n",
    "    labels=labels,\n",
    "    vae_model_classifier=vae_classifier_model,\n",
    "    vae_loss_li=np_vae_loss_li,\n",
    "    total_losses=total_losses, \n",
    "    classifier_accuracy_li=np_classifier_accuracy_li, \n",
    "    classifier_loss_li=np_classifier_loss_li,\n",
    "    kl_loss_li=np_kl_loss_li\n",
    ")"
   ],
   "id": "adb181a38d5aabb2",
   "execution_count": 8,
   "outputs": []
  },
  {
   "metadata": {
    "ExecuteTime": {
     "end_time": "2024-05-03T15:05:07.124475Z",
     "start_time": "2024-05-03T15:04:01.063751Z"
    }
   },
   "cell_type": "code",
   "source": [
    "# train classifier for performance evaluation\n",
    "\n",
    "classifier = MNISTClassifier(input_size=784, num_classes=10)\n",
    "classifier.train_model(training_data, batch_size=100, epochs=5)\n",
    "accuracy = classifier.test_model(testing_data)\n",
    "print(\"Test accuracy: \", accuracy)"
   ],
   "id": "45732cff7f69fc04",
   "execution_count": 9,
   "outputs": []
  },
  {
   "metadata": {
    "ExecuteTime": {
     "end_time": "2024-05-03T15:05:32.135100Z",
     "start_time": "2024-05-03T15:05:29.255706Z"
    }
   },
   "cell_type": "code",
   "source": [
    "# test image classification with gen images\n",
    "x, y = vae_classifier.generate_data(n_samples=10000)\n",
    "\n",
    "assert x.shape[0] == y.shape[0]\n",
    "print(\"Number of images: \", x.shape[0])\n",
    "\n",
    "accuracy = classifier.test_model_syn_img_label(x, y)\n",
    "print(\"Accuracy: \", accuracy)"
   ],
   "id": "2d243200370f1050",
   "execution_count": 11,
   "outputs": []
  },
  {
   "metadata": {
    "ExecuteTime": {
     "end_time": "2024-05-03T15:06:40.208023Z",
     "start_time": "2024-05-03T15:05:37.071547Z"
    }
   },
   "cell_type": "code",
   "source": [
    "# generate imbalanced data set for comparison of distribution of input vs distribution of generated images\n",
    "training_data = torchvision.datasets.MNIST(root='../data/MNIST_train', train=True, download=True, transform=torchvision.transforms.ToTensor())\n",
    "\n",
    "input = training_data.data[:60000]\n",
    "labels = training_data.targets[:60000]\n",
    "\n",
    "users_data = split_dirichlet(dataset=training_data, num_users=4, is_cfar=False, beta=0.5)\n",
    "\n",
    "total_input = []\n",
    "total_labels = []\n",
    "total_counts = []\n",
    "for user_idx in users_data:\n",
    "    images = []\n",
    "    outputs = []\n",
    "    counts = [0, 0, 0, 0, 0, 0, 0, 0, 0, 0]\n",
    "\n",
    "    for data_idx in users_data[user_idx]:\n",
    "        image = input[int(data_idx)]\n",
    "        images.append(image)\n",
    "        label = labels[int(data_idx)]\n",
    "        outputs.append(label)\n",
    "        counts[label] +=1\n",
    "    total_input.append(images)\n",
    "    total_labels.append(outputs)\n",
    "    total_counts.append(counts)\n",
    "\n",
    "user_idx = 0\n",
    "sample_input = total_input[user_idx]\n",
    "sample_label = total_labels[user_idx]\n",
    "\n",
    "# print(sample_input)\n",
    "# print(total_labels[user_idx])\n",
    "\n",
    "input_tensor = torch.stack(sample_input)\n",
    "label_tensor = torch.stack(sample_label)\n",
    "\n",
    "plot_image_label_two(input_tensor.cpu().detach().numpy(), label_tensor.cpu().detach().numpy())\n",
    "\n",
    "assert input_tensor.shape[0] == label_tensor.shape[0]\n",
    "\n",
    "training_data.data = input_tensor\n",
    "training_data.targets = label_tensor\n",
    "\n",
    "assert training_data.data.shape == input_tensor.shape\n",
    "assert training_data.targets.shape == label_tensor.shape\n",
    "\n",
    "\n",
    "# Train VAE on imbalanced dataset\n",
    "vae_imbalanced = VaeAutoencoderClassifier(dim_encoding=2)\n",
    "\n",
    "# sufficient epoch makes the generated data distribution similar to the given input\n",
    "# distribution nicely balanced for alpha=1000, beta=1.0, and 20 epochs\n",
    "_, _, _, _, _, _ = vae_imbalanced.train_model(\n",
    "    training_data,\n",
    "    batch_size=50,\n",
    "    alpha=1000,\n",
    "    beta=1.0,\n",
    "    epochs=20\n",
    ")\n",
    "\n",
    "gen_image, gen_output = vae_imbalanced.generate_data(n_samples=sum(total_counts[user_idx]))\n",
    "gen_counts = [0, 0, 0, 0, 0, 0, 0, 0, 0, 0]\n",
    "for probabilities in gen_output:\n",
    "    max_index = torch.argmax(probabilities)\n",
    "    gen_counts[max_index]+=1\n",
    "\n",
    "# plot generated data\n",
    "plot_image_label(gen_image.cpu().detach().numpy(), gen_output.cpu().detach().numpy())\n",
    "\n",
    "print(\"Input counts: \", total_counts[user_idx])\n",
    "print(\"Generated counts: \", gen_counts)"
   ],
   "id": "8facfceca09d32d",
   "execution_count": 12,
   "outputs": []
  },
  {
   "metadata": {},
   "cell_type": "code",
   "execution_count": null,
   "source": [
    "# # compute FID score\n",
    "# syn_input, _ = vae_classifier.generate_data(n_samples=500)\n",
    "# input = input[:500]\n",
    "# \n",
    "# input_rgb = input.view(-1, 1, 28, 28).repeat(1, 3, 1, 1)\n",
    "# syn_input_rgb = syn_input.view(-1, 1, 28, 28).repeat(1, 3, 1, 1)\n",
    "# \n",
    "# # compute FID score (worst: 131, best: 85)\n",
    "# # 0 score only possible if absolutely identical\n",
    "# fid_score = frechet_inception_distance(input_rgb, syn_input_rgb)\n",
    "# print(\"Frechet Inception Distance: \", fid_score)"
   ],
   "id": "fca304c12aff8d34",
   "outputs": []
  },
  {
   "metadata": {},
   "cell_type": "code",
   "execution_count": null,
   "source": [],
   "id": "c740a72805ac4eec",
   "outputs": []
  }
 ],
 "metadata": {
  "kernelspec": {
   "display_name": "Python 3",
   "language": "python",
   "name": "python3"
  },
  "language_info": {
   "codemirror_mode": {
    "name": "ipython",
    "version": 2
   },
   "file_extension": ".py",
   "mimetype": "text/x-python",
   "name": "python",
   "nbconvert_exporter": "python",
   "pygments_lexer": "ipython2",
   "version": "2.7.6"
  }
 },
 "nbformat": 4,
 "nbformat_minor": 5
}
